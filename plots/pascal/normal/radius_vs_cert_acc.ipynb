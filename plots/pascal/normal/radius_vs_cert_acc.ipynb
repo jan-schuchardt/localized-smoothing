{
 "cells": [
  {
   "cell_type": "code",
   "execution_count": null,
   "metadata": {},
   "outputs": [],
   "source": [
    "import numpy as np\n",
    "import seml.database as db_utils\n",
    "import torch\n",
    "\n",
    "from localized_smoothing.segmentation.eval import (\n",
    "        calc_certified_pixel_accuracy_naive,\n",
    "        calc_certified_ratios_naive,\n",
    "        calc_pixel_accuracy,\n",
    "        calc_mean_iou,\n",
    "        calc_certified_ratios_collective,\n",
    "        calc_certified_pixel_accuracy_center,\n",
    "        calc_certified_ratios_center,\n",
    "        calc_certified_pixel_accuracy_collective)\n",
    "\n",
    "from itertools import product\n",
    "\n",
    "import matplotlib.pyplot as plt\n",
    "\n",
    "import sys\n",
    "\n",
    "import seaborn as sns\n",
    "\n",
    "\n",
    "\n",
    "sys.path.append('../../')\n",
    "\n",
    "from utils import load_results\n",
    "\n",
    "import os"
   ]
  },
  {
   "cell_type": "code",
   "execution_count": null,
   "metadata": {},
   "outputs": [],
   "source": [
    "collection = 'cert_images_pascal_localized_training'\n",
    "collection_iid = 'cert_images_pascal_iid'\n",
    "\n",
    "jk_config = {\n",
    "    'username': 'your_username',\n",
    "    'password': 'your_password',\n",
    "    'host': 'host_ip',\n",
    "    'port': 27017,\n",
    "    'db_name': 'your_db_name'\n",
    "}\n",
    "\n",
    "col = db_utils.get_collection(collection, mongodb_config=jk_config)\n",
    "col_iid = db_utils.get_collection(collection_iid, mongodb_config=jk_config)\n"
   ]
  },
  {
   "cell_type": "code",
   "execution_count": null,
   "metadata": {},
   "outputs": [],
   "source": [
    "def area_under_curve(x,\n",
    "                     y,\n",
    "                     pre=True):\n",
    "    if pre:\n",
    "        return np.diff(x) @ y[1:]\n",
    "    else:\n",
    "        return np.diff(x) @ y[:-1]"
   ]
  },
  {
   "cell_type": "code",
   "execution_count": null,
   "metadata": {},
   "outputs": [],
   "source": [
    "def get_experiments(col, restrictions={}):\n",
    "    \n",
    "    restrictions['status'] = 'COMPLETED'\n",
    "\n",
    "    if col.count_documents(restrictions) == 0:\n",
    "        raise ValueError('No matches!')\n",
    "\n",
    "    exps = col.find(restrictions, {'result': 1, 'stats': 1, 'host': 1})\n",
    "    \n",
    "    return exps"
   ]
  },
  {
   "cell_type": "code",
   "execution_count": null,
   "metadata": {},
   "outputs": [],
   "source": [
    "def get_results_dict_iid(exp, cert_type='argmax_holm', abstain=True, n_images=100, n_classes=21):\n",
    "    res = torch.load(exp['result']['cert_file'])\n",
    "    config = res.pop('config')\n",
    "    budgets = res['budgets']\n",
    "\n",
    "\n",
    "    results_dict = {\n",
    "        'std': config['distribution_params']['std_min'],\n",
    "        'grid_height': config['distribution_params']['grid_shape'][0],\n",
    "        'grid_width': config['distribution_params']['grid_shape'][1],\n",
    "        'n_samples_pred': config['sample_params']['n_samples_pred'],\n",
    "        'n_samples_cert': config['sample_params']['n_samples_cert'],\n",
    "    }\n",
    "\n",
    "    results_dict.update({\n",
    "        'accuracy': calc_pixel_accuracy(res, cert_type, False, abstain, n_images, n_classes),\n",
    "        'iou': calc_mean_iou(res, cert_type, False, abstain=abstain, n_images=n_images),\n",
    "        'iou_center': calc_mean_iou(res, 'center_bonferroni', True, abstain=False, n_images=n_images),\n",
    "        'budgets': budgets,\n",
    "        'certified_ratios': calc_certified_ratios_naive(res, cert_type, n_images, n_classes),\n",
    "        'certified_accuracies': calc_certified_pixel_accuracy_naive(res, cert_type, n_images, n_classes),\n",
    "        'certified_ratios_center': calc_certified_ratios_center(res, n_pixels=(166*250)),\n",
    "        'certified_accuracies_center': calc_certified_pixel_accuracy_center(res, n_images=n_images),\n",
    "        'time': exp['stats']['real_time'],\n",
    "        'vram': exp['host']['gpus']['gpus'][0]['total_memory']\n",
    "    })\n",
    "\n",
    "    for metric, pre in product(['ratios', 'accuracies', 'ratios_center', 'accuracies_center'], [True, False]):\n",
    "\n",
    "        results_dict[f'auc_{metric}_{\"pre\" if pre else \"post\"}'] = area_under_curve(\n",
    "            results_dict['budgets'],\n",
    "            results_dict[f'certified_{metric}'],\n",
    "            pre\n",
    "        )\n",
    "\n",
    "    return results_dict"
   ]
  },
  {
   "cell_type": "code",
   "execution_count": null,
   "metadata": {},
   "outputs": [],
   "source": [
    "def get_results_dict_collective(exp, cert_type='argmax_holm', abstain=True, n_images=100, n_classes=21, store_accumulate_gradients=True):\n",
    "    \n",
    "    res = torch.load(exp['result']['cert_file'])\n",
    "    config = res.pop('config')\n",
    "    budgets = res['budgets']\n",
    "\n",
    "    results_dict = {\n",
    "        'std': config['distribution_params']['std_min'],\n",
    "        'std_max': config['distribution_params']['std_max'],\n",
    "        'grid_height': config['distribution_params']['grid_shape'][0],\n",
    "        'grid_width': config['distribution_params']['grid_shape'][1],\n",
    "        'n_samples_pred': config['sample_params']['n_samples_pred'],\n",
    "        'n_samples_cert': config['sample_params']['n_samples_cert'],\n",
    "    }\n",
    "\n",
    "    if store_accumulate_gradients:\n",
    "        results_dict['acc_grads'] = config['train_loading']['restrictions']['training_params']['accumulate_gradients']\n",
    "    results_dict.update({\n",
    "        'accuracy': calc_pixel_accuracy(res, cert_type, False, abstain, n_images, n_classes),\n",
    "        'iou': calc_mean_iou(res, cert_type, False, abstain=abstain, n_images=n_images),\n",
    "        'budgets': budgets,\n",
    "        'certified_ratios_all': calc_certified_ratios_collective(res, cert_type, True, False, n_images, n_classes),\n",
    "        'certified_ratios_correct': calc_certified_ratios_collective(res, cert_type, False, True, n_images, n_classes),\n",
    "        'certified_accuracies_all': calc_certified_pixel_accuracy_collective(res, cert_type, True, False, n_images, n_classes),\n",
    "        'certified_accuracies_correct': calc_certified_pixel_accuracy_collective(res, cert_type, False, True, n_images, n_classes),\n",
    "        'naive_certified_ratios': calc_certified_ratios_naive(res, cert_type, n_images, n_classes),\n",
    "        'naive_certified_accuracies': calc_certified_pixel_accuracy_naive(res, cert_type, n_images, n_classes),\n",
    "        'time': exp['stats']['real_time'],\n",
    "        'vram': exp['host']['gpus']['gpus'][0]['total_memory']\n",
    "    })\n",
    "\n",
    "    for metric, subset, pre in product(['ratios', 'accuracies'], ['all', 'correct'], [True, False]):\n",
    "\n",
    "        results_dict[f'auc_{metric}_{subset}_{\"pre\" if pre else \"post\"}'] = area_under_curve(\n",
    "            results_dict['budgets'],\n",
    "            results_dict[f'certified_{metric}_{subset}'],\n",
    "            pre\n",
    "        )\n",
    "\n",
    "    return results_dict\n"
   ]
  },
  {
   "cell_type": "code",
   "execution_count": null,
   "metadata": {},
   "outputs": [],
   "source": [
    "exps_iid = get_experiments(col_iid, {'config.sample_params.n_samples_pred': {'$ne': 512}})\n",
    "results_iid = load_results(get_results_dict_iid, exps_iid, './data/pascal_iid', overwrite=False)  # Set to True if you want to load your own data"
   ]
  },
  {
   "cell_type": "code",
   "execution_count": null,
   "metadata": {},
   "outputs": [],
   "source": [
    "exps = get_experiments(col)\n",
    "results_collective = load_results(get_results_dict_collective, exps, './data/pascal_collective_locally_trained', overwrite=False)  # Set to True if you want to load your own data"
   ]
  },
  {
   "cell_type": "code",
   "execution_count": null,
   "metadata": {},
   "outputs": [],
   "source": [
    "results_iid = results_iid.loc[results_iid['n_samples_pred'] == 820]\n",
    "results_iid = results_iid.reset_index(drop=True)\n",
    "results_iid"
   ]
  },
  {
   "cell_type": "code",
   "execution_count": null,
   "metadata": {},
   "outputs": [],
   "source": [
    "results_collective"
   ]
  },
  {
   "cell_type": "code",
   "execution_count": null,
   "metadata": {},
   "outputs": [],
   "source": []
  },
  {
   "cell_type": "code",
   "execution_count": null,
   "metadata": {},
   "outputs": [],
   "source": [
    "def plot(budgets_iid, cert_acc_iid, budgets_collective, cert_acc_collective, cert_acc_collective_naive):\n",
    "    plt.clf()\n",
    "    plt.cla()\n",
    "\n",
    "    pal = sns.color_palette('colorblind', 2)\n",
    "\n",
    "    plt.plot(budgets_collective, cert_acc_collective, label='Localized LP', color=pal[0])\n",
    "\n",
    "    plt.plot(budgets_collective, cert_acc_collective_naive, label='Localized Naïve', color=pal[0], linestyle='--')\n",
    "\n",
    "    plt.plot(budgets_iid, cert_acc_iid, label='SegCertify$^*$', color=pal[1])\n",
    "\n",
    "\n",
    "    xlim = max(budgets_iid[cert_acc_iid == 0][0], budgets_collective[cert_acc_collective == 0][0])\n",
    "\n",
    "    plt.xlim(0, xlim * 1.1)\n",
    "\n",
    "    plt.legend()\n",
    "\n",
    "    plt.xlabel('Adversarial budget $\\epsilon$')\n",
    "    plt.ylabel('Certified accuracy')"
   ]
  },
  {
   "cell_type": "code",
   "execution_count": null,
   "metadata": {},
   "outputs": [],
   "source": [
    "results_iid = results_iid.loc[results_iid['std'] == 0.2]\n",
    "\n",
    "std, budgets_iid, cert_acc_iid = results_iid[['std', 'budgets', 'certified_accuracies']].values[0]\n",
    "\n",
    "results_collective = results_collective.loc[(results_collective['std'] == 0.15) & (results_collective['std_max'] == 1.0)]\n",
    "\n",
    "std_min, std_max, budgets_collective, cert_acc_collective, cert_acc_collective_naive = results_collective[['std', 'std_max', 'budgets', 'certified_accuracies_correct', 'naive_certified_accuracies']].values[0]\n",
    "\n",
    "sns.set()\n",
    "\n",
    "\n",
    "std_mins = np.sort(list(set(results_collective['std'])))\n",
    "\n",
    "\n",
    "\n",
    "plot(budgets_iid, cert_acc_iid, budgets_collective, cert_acc_collective, cert_acc_collective_naive)\n",
    "\n",
    "\n",
    "#mplt.savefig(f'./figures/0_2_vs_0_15_1_0', format='pgf', preview='png', dpi=512, tight={'pad': 0.5})\n",
    "#mplt.savefig(f'./figures/0_2_vs_0_15_1_0', format='pdf', preview='png', dpi=512, tight={'pad': 0.5})\n",
    "\n",
    "\n"
   ]
  },
  {
   "cell_type": "code",
   "execution_count": null,
   "metadata": {},
   "outputs": [],
   "source": []
  }
 ],
 "metadata": {
  "kernelspec": {
   "display_name": "localized_smoothing_camera",
   "language": "python",
   "name": "python3"
  },
  "language_info": {
   "codemirror_mode": {
    "name": "ipython",
    "version": 3
   },
   "file_extension": ".py",
   "mimetype": "text/x-python",
   "name": "python",
   "nbconvert_exporter": "python",
   "pygments_lexer": "ipython3",
   "version": "3.11.4"
  },
  "orig_nbformat": 4,
  "vscode": {
   "interpreter": {
    "hash": "85e2a4260fe07c9d68aa8d7545cb3541cf58dbbbb01d6436dd56af59bb09589b"
   }
  }
 },
 "nbformat": 4,
 "nbformat_minor": 2
}
